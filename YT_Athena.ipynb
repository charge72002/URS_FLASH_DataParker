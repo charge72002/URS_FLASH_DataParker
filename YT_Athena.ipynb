{
 "cells": [
  {
   "cell_type": "markdown",
   "metadata": {},
   "source": [
    "Much code borrowed from Roark's \"Intro to YT with Athena++ data.ipynb\n",
    "https://github.com/charge72002/YTwithAthena/blob/af362029b93030d9a793c7890344d23cef006ba7/Intro%20to%20YT%20with%20Athena++%20data.ipynb"
   ]
  },
  {
   "cell_type": "code",
   "execution_count": 1,
   "metadata": {},
   "outputs": [],
   "source": [
    "import os\n",
    "import numpy as np\n",
    "import glob #file\n",
    "import matplotlib.pyplot as plt\n",
    "import yt\n",
    "#import units_Parker\n",
    "#Full file path. Jupyter likes Windows notation, Spyder likes Mac/Linux\n",
    "os.chdir( r\"C:\\Users\\wongb\\Documents\\Python_Scripts\")"
   ]
  },
  {
   "cell_type": "code",
   "execution_count": 2,
   "metadata": {},
   "outputs": [],
   "source": [
    "import athena_read as reader #This file comes from Roark; check email 3 Nov 2020"
   ]
  },
  {
   "cell_type": "code",
   "execution_count": 3,
   "metadata": {},
   "outputs": [
    {
     "name": "stdout",
     "output_type": "stream",
     "text": [
      "[athena_read.athdf]:  ['rho', 'press', 'vel1', 'vel2', 'vel3'] 00025\n"
     ]
    }
   ],
   "source": [
    "filename = r\"C:\\\\Users\\\\wongb\\\\Documents\\\\C_Scripts\\\\athena\\\\1D_tutorial\\\\Sod.out1.00025.athdf\"\n",
    "data = reader.athdf(filename)"
   ]
  },
  {
   "cell_type": "code",
   "execution_count": 4,
   "metadata": {},
   "outputs": [
    {
     "data": {
      "text/plain": [
       "(1, 1, 256)"
      ]
     },
     "execution_count": 4,
     "metadata": {},
     "output_type": "execute_result"
    }
   ],
   "source": [
    "data['rho'].shape"
   ]
  },
  {
   "cell_type": "code",
   "execution_count": 5,
   "metadata": {},
   "outputs": [
    {
     "data": {
      "text/plain": [
       "[<matplotlib.lines.Line2D at 0x18020764cd0>,\n",
       " <matplotlib.lines.Line2D at 0x18020764d00>,\n",
       " <matplotlib.lines.Line2D at 0x18020764e80>,\n",
       " <matplotlib.lines.Line2D at 0x18020764f40>,\n",
       " <matplotlib.lines.Line2D at 0x18020764fa0>,\n",
       " <matplotlib.lines.Line2D at 0x18020776100>,\n",
       " <matplotlib.lines.Line2D at 0x180207761c0>,\n",
       " <matplotlib.lines.Line2D at 0x18020776280>,\n",
       " <matplotlib.lines.Line2D at 0x18020776340>,\n",
       " <matplotlib.lines.Line2D at 0x18020776400>,\n",
       " <matplotlib.lines.Line2D at 0x1802072ff10>,\n",
       " <matplotlib.lines.Line2D at 0x18020776520>,\n",
       " <matplotlib.lines.Line2D at 0x18020776610>,\n",
       " <matplotlib.lines.Line2D at 0x180207766d0>,\n",
       " <matplotlib.lines.Line2D at 0x18020776790>,\n",
       " <matplotlib.lines.Line2D at 0x18020776850>,\n",
       " <matplotlib.lines.Line2D at 0x18020776910>,\n",
       " <matplotlib.lines.Line2D at 0x180207769d0>,\n",
       " <matplotlib.lines.Line2D at 0x18020776a90>,\n",
       " <matplotlib.lines.Line2D at 0x18020776b50>,\n",
       " <matplotlib.lines.Line2D at 0x18020776c10>,\n",
       " <matplotlib.lines.Line2D at 0x18020776cd0>,\n",
       " <matplotlib.lines.Line2D at 0x18020776d90>,\n",
       " <matplotlib.lines.Line2D at 0x18020776e50>,\n",
       " <matplotlib.lines.Line2D at 0x18020776f10>,\n",
       " <matplotlib.lines.Line2D at 0x18020776fd0>,\n",
       " <matplotlib.lines.Line2D at 0x1802077e0d0>,\n",
       " <matplotlib.lines.Line2D at 0x1802077e190>,\n",
       " <matplotlib.lines.Line2D at 0x1802077e250>,\n",
       " <matplotlib.lines.Line2D at 0x1802077e310>,\n",
       " <matplotlib.lines.Line2D at 0x1802077e3d0>,\n",
       " <matplotlib.lines.Line2D at 0x1802077e490>,\n",
       " <matplotlib.lines.Line2D at 0x1802077e550>,\n",
       " <matplotlib.lines.Line2D at 0x1802077e610>,\n",
       " <matplotlib.lines.Line2D at 0x1802077e6d0>,\n",
       " <matplotlib.lines.Line2D at 0x1802077e790>,\n",
       " <matplotlib.lines.Line2D at 0x1802077e850>,\n",
       " <matplotlib.lines.Line2D at 0x1802077e910>,\n",
       " <matplotlib.lines.Line2D at 0x1802077e9d0>,\n",
       " <matplotlib.lines.Line2D at 0x1802077ea90>,\n",
       " <matplotlib.lines.Line2D at 0x1802077eb50>,\n",
       " <matplotlib.lines.Line2D at 0x1802077ec10>,\n",
       " <matplotlib.lines.Line2D at 0x1802077ecd0>,\n",
       " <matplotlib.lines.Line2D at 0x1802077ed90>,\n",
       " <matplotlib.lines.Line2D at 0x1802077ee50>,\n",
       " <matplotlib.lines.Line2D at 0x1802077ef10>,\n",
       " <matplotlib.lines.Line2D at 0x1802077efd0>,\n",
       " <matplotlib.lines.Line2D at 0x180207850d0>,\n",
       " <matplotlib.lines.Line2D at 0x18020785190>,\n",
       " <matplotlib.lines.Line2D at 0x18020785250>,\n",
       " <matplotlib.lines.Line2D at 0x18020785310>,\n",
       " <matplotlib.lines.Line2D at 0x180207853d0>,\n",
       " <matplotlib.lines.Line2D at 0x18020785490>,\n",
       " <matplotlib.lines.Line2D at 0x18020785550>,\n",
       " <matplotlib.lines.Line2D at 0x18020785610>,\n",
       " <matplotlib.lines.Line2D at 0x180207856d0>,\n",
       " <matplotlib.lines.Line2D at 0x18020785790>,\n",
       " <matplotlib.lines.Line2D at 0x18020785850>,\n",
       " <matplotlib.lines.Line2D at 0x18020785910>,\n",
       " <matplotlib.lines.Line2D at 0x180207859d0>,\n",
       " <matplotlib.lines.Line2D at 0x18020785a90>,\n",
       " <matplotlib.lines.Line2D at 0x18020785b50>,\n",
       " <matplotlib.lines.Line2D at 0x18020785c10>,\n",
       " <matplotlib.lines.Line2D at 0x18020785cd0>,\n",
       " <matplotlib.lines.Line2D at 0x18020785d90>,\n",
       " <matplotlib.lines.Line2D at 0x18020785e50>,\n",
       " <matplotlib.lines.Line2D at 0x18020785f10>,\n",
       " <matplotlib.lines.Line2D at 0x18020785fd0>,\n",
       " <matplotlib.lines.Line2D at 0x1802078d0d0>,\n",
       " <matplotlib.lines.Line2D at 0x1802078d190>,\n",
       " <matplotlib.lines.Line2D at 0x1802078d250>,\n",
       " <matplotlib.lines.Line2D at 0x1802078d310>,\n",
       " <matplotlib.lines.Line2D at 0x1802078d3d0>,\n",
       " <matplotlib.lines.Line2D at 0x1802078d490>,\n",
       " <matplotlib.lines.Line2D at 0x1802078d550>,\n",
       " <matplotlib.lines.Line2D at 0x1802078d610>,\n",
       " <matplotlib.lines.Line2D at 0x1802078d6d0>,\n",
       " <matplotlib.lines.Line2D at 0x1802078d790>,\n",
       " <matplotlib.lines.Line2D at 0x1802078d850>,\n",
       " <matplotlib.lines.Line2D at 0x1802078d910>,\n",
       " <matplotlib.lines.Line2D at 0x1802078d9d0>,\n",
       " <matplotlib.lines.Line2D at 0x1802078da90>,\n",
       " <matplotlib.lines.Line2D at 0x1802078db50>,\n",
       " <matplotlib.lines.Line2D at 0x1802078dc10>,\n",
       " <matplotlib.lines.Line2D at 0x1802078dcd0>,\n",
       " <matplotlib.lines.Line2D at 0x1802078dd90>,\n",
       " <matplotlib.lines.Line2D at 0x1802078de50>,\n",
       " <matplotlib.lines.Line2D at 0x1802078df10>,\n",
       " <matplotlib.lines.Line2D at 0x1802078dfd0>,\n",
       " <matplotlib.lines.Line2D at 0x180207950d0>,\n",
       " <matplotlib.lines.Line2D at 0x18020795190>,\n",
       " <matplotlib.lines.Line2D at 0x18020795250>,\n",
       " <matplotlib.lines.Line2D at 0x18020795310>,\n",
       " <matplotlib.lines.Line2D at 0x180207953d0>,\n",
       " <matplotlib.lines.Line2D at 0x18020795490>,\n",
       " <matplotlib.lines.Line2D at 0x18020795550>,\n",
       " <matplotlib.lines.Line2D at 0x18020795610>,\n",
       " <matplotlib.lines.Line2D at 0x180207956d0>,\n",
       " <matplotlib.lines.Line2D at 0x18020795790>,\n",
       " <matplotlib.lines.Line2D at 0x18020795850>,\n",
       " <matplotlib.lines.Line2D at 0x18020795910>,\n",
       " <matplotlib.lines.Line2D at 0x180207959d0>,\n",
       " <matplotlib.lines.Line2D at 0x18020795a90>,\n",
       " <matplotlib.lines.Line2D at 0x18020795b50>,\n",
       " <matplotlib.lines.Line2D at 0x18020795c10>,\n",
       " <matplotlib.lines.Line2D at 0x18020795cd0>,\n",
       " <matplotlib.lines.Line2D at 0x18020795d90>,\n",
       " <matplotlib.lines.Line2D at 0x18020795e50>,\n",
       " <matplotlib.lines.Line2D at 0x18020795f10>,\n",
       " <matplotlib.lines.Line2D at 0x18020795fd0>,\n",
       " <matplotlib.lines.Line2D at 0x1802079c0d0>,\n",
       " <matplotlib.lines.Line2D at 0x1802079c190>,\n",
       " <matplotlib.lines.Line2D at 0x1802079c250>,\n",
       " <matplotlib.lines.Line2D at 0x1802079c310>,\n",
       " <matplotlib.lines.Line2D at 0x1802079c3d0>,\n",
       " <matplotlib.lines.Line2D at 0x1802079c490>,\n",
       " <matplotlib.lines.Line2D at 0x1802079c550>,\n",
       " <matplotlib.lines.Line2D at 0x1802079c610>,\n",
       " <matplotlib.lines.Line2D at 0x1802079c6d0>,\n",
       " <matplotlib.lines.Line2D at 0x1802079c790>,\n",
       " <matplotlib.lines.Line2D at 0x1802079c850>,\n",
       " <matplotlib.lines.Line2D at 0x1802079c910>,\n",
       " <matplotlib.lines.Line2D at 0x1802079c9d0>,\n",
       " <matplotlib.lines.Line2D at 0x1802079ca90>,\n",
       " <matplotlib.lines.Line2D at 0x1802079cb50>,\n",
       " <matplotlib.lines.Line2D at 0x1802079cc10>,\n",
       " <matplotlib.lines.Line2D at 0x1802079ccd0>,\n",
       " <matplotlib.lines.Line2D at 0x1802079cd90>,\n",
       " <matplotlib.lines.Line2D at 0x1802079ce50>,\n",
       " <matplotlib.lines.Line2D at 0x1802079cf10>,\n",
       " <matplotlib.lines.Line2D at 0x1802079cfd0>,\n",
       " <matplotlib.lines.Line2D at 0x180207a30d0>,\n",
       " <matplotlib.lines.Line2D at 0x180207a3190>,\n",
       " <matplotlib.lines.Line2D at 0x180207a3250>,\n",
       " <matplotlib.lines.Line2D at 0x180207a3310>,\n",
       " <matplotlib.lines.Line2D at 0x180207a33d0>,\n",
       " <matplotlib.lines.Line2D at 0x180207a3490>,\n",
       " <matplotlib.lines.Line2D at 0x180207a3550>,\n",
       " <matplotlib.lines.Line2D at 0x180207a3610>,\n",
       " <matplotlib.lines.Line2D at 0x180207a36d0>,\n",
       " <matplotlib.lines.Line2D at 0x180207a3790>,\n",
       " <matplotlib.lines.Line2D at 0x180207a3850>,\n",
       " <matplotlib.lines.Line2D at 0x180207a3910>,\n",
       " <matplotlib.lines.Line2D at 0x180207a39d0>,\n",
       " <matplotlib.lines.Line2D at 0x180207a3a90>,\n",
       " <matplotlib.lines.Line2D at 0x180207a3b50>,\n",
       " <matplotlib.lines.Line2D at 0x180207a3c10>,\n",
       " <matplotlib.lines.Line2D at 0x180207a3cd0>,\n",
       " <matplotlib.lines.Line2D at 0x180207a3d90>,\n",
       " <matplotlib.lines.Line2D at 0x180207a3e50>,\n",
       " <matplotlib.lines.Line2D at 0x180207a3f10>,\n",
       " <matplotlib.lines.Line2D at 0x180207a3fd0>,\n",
       " <matplotlib.lines.Line2D at 0x180207ab0d0>,\n",
       " <matplotlib.lines.Line2D at 0x180207ab190>,\n",
       " <matplotlib.lines.Line2D at 0x180207ab250>,\n",
       " <matplotlib.lines.Line2D at 0x180207ab310>,\n",
       " <matplotlib.lines.Line2D at 0x180207ab3d0>,\n",
       " <matplotlib.lines.Line2D at 0x180207ab490>,\n",
       " <matplotlib.lines.Line2D at 0x180207ab550>,\n",
       " <matplotlib.lines.Line2D at 0x180207ab610>,\n",
       " <matplotlib.lines.Line2D at 0x180207ab6d0>,\n",
       " <matplotlib.lines.Line2D at 0x180207ab790>,\n",
       " <matplotlib.lines.Line2D at 0x180207ab850>,\n",
       " <matplotlib.lines.Line2D at 0x180207ab910>,\n",
       " <matplotlib.lines.Line2D at 0x180207ab9d0>,\n",
       " <matplotlib.lines.Line2D at 0x180207aba90>,\n",
       " <matplotlib.lines.Line2D at 0x180207abb50>,\n",
       " <matplotlib.lines.Line2D at 0x180207abc10>,\n",
       " <matplotlib.lines.Line2D at 0x180207abcd0>,\n",
       " <matplotlib.lines.Line2D at 0x180207abd90>,\n",
       " <matplotlib.lines.Line2D at 0x180207abe50>,\n",
       " <matplotlib.lines.Line2D at 0x180207abf10>,\n",
       " <matplotlib.lines.Line2D at 0x180207abfd0>,\n",
       " <matplotlib.lines.Line2D at 0x180207b10d0>,\n",
       " <matplotlib.lines.Line2D at 0x180207b11c0>,\n",
       " <matplotlib.lines.Line2D at 0x180207b1280>,\n",
       " <matplotlib.lines.Line2D at 0x180207b1340>,\n",
       " <matplotlib.lines.Line2D at 0x180207b1400>,\n",
       " <matplotlib.lines.Line2D at 0x180207b14c0>,\n",
       " <matplotlib.lines.Line2D at 0x180207b1580>,\n",
       " <matplotlib.lines.Line2D at 0x180207b1640>,\n",
       " <matplotlib.lines.Line2D at 0x180207b1700>,\n",
       " <matplotlib.lines.Line2D at 0x180207b17c0>,\n",
       " <matplotlib.lines.Line2D at 0x180207b1880>,\n",
       " <matplotlib.lines.Line2D at 0x180207b1940>,\n",
       " <matplotlib.lines.Line2D at 0x180207b1a00>,\n",
       " <matplotlib.lines.Line2D at 0x180207b1ac0>,\n",
       " <matplotlib.lines.Line2D at 0x180207b1b80>,\n",
       " <matplotlib.lines.Line2D at 0x180207b1c40>,\n",
       " <matplotlib.lines.Line2D at 0x180207b1d00>,\n",
       " <matplotlib.lines.Line2D at 0x180207b1dc0>,\n",
       " <matplotlib.lines.Line2D at 0x180207b1e80>,\n",
       " <matplotlib.lines.Line2D at 0x180207b1f40>,\n",
       " <matplotlib.lines.Line2D at 0x180207b1fa0>,\n",
       " <matplotlib.lines.Line2D at 0x180207b8100>,\n",
       " <matplotlib.lines.Line2D at 0x180207b81c0>,\n",
       " <matplotlib.lines.Line2D at 0x180207b8280>,\n",
       " <matplotlib.lines.Line2D at 0x180207b8340>,\n",
       " <matplotlib.lines.Line2D at 0x180207b8400>,\n",
       " <matplotlib.lines.Line2D at 0x180207b84c0>,\n",
       " <matplotlib.lines.Line2D at 0x180207b8580>,\n",
       " <matplotlib.lines.Line2D at 0x180207b8640>,\n",
       " <matplotlib.lines.Line2D at 0x180207b8700>,\n",
       " <matplotlib.lines.Line2D at 0x180207b87c0>,\n",
       " <matplotlib.lines.Line2D at 0x180207b8880>,\n",
       " <matplotlib.lines.Line2D at 0x180207b8940>,\n",
       " <matplotlib.lines.Line2D at 0x180207b8a00>,\n",
       " <matplotlib.lines.Line2D at 0x180207b8ac0>,\n",
       " <matplotlib.lines.Line2D at 0x180207b8b80>,\n",
       " <matplotlib.lines.Line2D at 0x180207b8c40>,\n",
       " <matplotlib.lines.Line2D at 0x180207b8d00>,\n",
       " <matplotlib.lines.Line2D at 0x180207b8dc0>,\n",
       " <matplotlib.lines.Line2D at 0x180207b8e80>,\n",
       " <matplotlib.lines.Line2D at 0x180207b8f40>,\n",
       " <matplotlib.lines.Line2D at 0x180207b8fa0>,\n",
       " <matplotlib.lines.Line2D at 0x180207c0100>,\n",
       " <matplotlib.lines.Line2D at 0x180207c01c0>,\n",
       " <matplotlib.lines.Line2D at 0x180207c0280>,\n",
       " <matplotlib.lines.Line2D at 0x180207c0340>,\n",
       " <matplotlib.lines.Line2D at 0x180207c0400>,\n",
       " <matplotlib.lines.Line2D at 0x180207c04c0>,\n",
       " <matplotlib.lines.Line2D at 0x180207c0580>,\n",
       " <matplotlib.lines.Line2D at 0x180207c0640>,\n",
       " <matplotlib.lines.Line2D at 0x180207c0700>,\n",
       " <matplotlib.lines.Line2D at 0x180207c07c0>,\n",
       " <matplotlib.lines.Line2D at 0x180207c0880>,\n",
       " <matplotlib.lines.Line2D at 0x180207c0940>,\n",
       " <matplotlib.lines.Line2D at 0x180207c0a00>,\n",
       " <matplotlib.lines.Line2D at 0x180207c0ac0>,\n",
       " <matplotlib.lines.Line2D at 0x180207c0b80>,\n",
       " <matplotlib.lines.Line2D at 0x180207c0c40>,\n",
       " <matplotlib.lines.Line2D at 0x180207c0d00>,\n",
       " <matplotlib.lines.Line2D at 0x180207c0dc0>,\n",
       " <matplotlib.lines.Line2D at 0x180207c0e80>,\n",
       " <matplotlib.lines.Line2D at 0x180207c0f40>,\n",
       " <matplotlib.lines.Line2D at 0x180207c0fa0>,\n",
       " <matplotlib.lines.Line2D at 0x180207c7100>,\n",
       " <matplotlib.lines.Line2D at 0x180207c71c0>,\n",
       " <matplotlib.lines.Line2D at 0x180207c7280>,\n",
       " <matplotlib.lines.Line2D at 0x180207c7340>,\n",
       " <matplotlib.lines.Line2D at 0x180207c7400>,\n",
       " <matplotlib.lines.Line2D at 0x180207c74c0>,\n",
       " <matplotlib.lines.Line2D at 0x180207c7580>,\n",
       " <matplotlib.lines.Line2D at 0x180207c7640>,\n",
       " <matplotlib.lines.Line2D at 0x180207c7700>,\n",
       " <matplotlib.lines.Line2D at 0x180207c77c0>,\n",
       " <matplotlib.lines.Line2D at 0x180207c7880>,\n",
       " <matplotlib.lines.Line2D at 0x180207c7940>,\n",
       " <matplotlib.lines.Line2D at 0x180207c7a00>,\n",
       " <matplotlib.lines.Line2D at 0x180207c7ac0>,\n",
       " <matplotlib.lines.Line2D at 0x180207c7b80>,\n",
       " <matplotlib.lines.Line2D at 0x180207c7c40>,\n",
       " <matplotlib.lines.Line2D at 0x180207c7d00>,\n",
       " <matplotlib.lines.Line2D at 0x180207c7dc0>,\n",
       " <matplotlib.lines.Line2D at 0x180207c7e80>,\n",
       " <matplotlib.lines.Line2D at 0x180207c7f40>]"
      ]
     },
     "execution_count": 5,
     "metadata": {},
     "output_type": "execute_result"
    },
    {
     "data": {
      "image/png": "[encoded data removed]",
      "text/plain": [
       "<Figure size 432x288 with 1 Axes>"
      ]
     },
     "metadata": {
      "needs_background": "light"
     },
     "output_type": "display_data"
    }
   ],
   "source": [
    "plt.plot(data['rho'][0], data['press'][0])"
   ]
  },
  {
   "cell_type": "code",
   "execution_count": 6,
   "metadata": {},
   "outputs": [],
   "source": [
    "#Find all .athdf files.\n",
    "dirName = r\"C:\\\\Users\\\\wongb\\\\Documents\\\\C_Scripts\\\\athena\\\\1D_tutorial\\\\*.athdf\"\n",
    "fileLst = glob.glob(dirName)\n",
    "fileLst = np.sort(fileLst)\n",
    "#print(fileLst)"
   ]
  },
  {
   "cell_type": "code",
   "execution_count": 7,
   "metadata": {},
   "outputs": [
    {
     "name": "stderr",
     "output_type": "stream",
     "text": [
      "yt : [WARNING  ] 2021-06-30 19:52:12,184 Assuming 1.0 = 1.0 cm\n",
      "yt : [WARNING  ] 2021-06-30 19:52:12,186 Assuming 1.0 = 1.0 s\n",
      "yt : [WARNING  ] 2021-06-30 19:52:12,187 Assuming 1.0 = 1.0 g\n",
      "yt : [WARNING  ] 2021-06-30 19:52:12,188 Assuming 1.0 = 1.0 K\n",
      "yt : [INFO     ] 2021-06-30 19:52:12,215 Parameters: current_time              = 0.0\n",
      "yt : [INFO     ] 2021-06-30 19:52:12,216 Parameters: domain_dimensions         = [256   1   1]\n",
      "yt : [INFO     ] 2021-06-30 19:52:12,217 Parameters: domain_left_edge          = [-0.5 -0.5 -0.5]\n",
      "yt : [INFO     ] 2021-06-30 19:52:12,218 Parameters: domain_right_edge         = [0.5 0.5 0.5]\n",
      "yt : [INFO     ] 2021-06-30 19:52:12,219 Parameters: cosmological_simulation   = 0.0\n",
      "yt : [WARNING  ] 2021-06-30 19:52:12,245 Assuming 1.0 = 1.0 cm\n",
      "yt : [WARNING  ] 2021-06-30 19:52:12,246 Assuming 1.0 = 1.0 s\n",
      "yt : [WARNING  ] 2021-06-30 19:52:12,247 Assuming 1.0 = 1.0 g\n",
      "yt : [WARNING  ] 2021-06-30 19:52:12,248 Assuming 1.0 = 1.0 K\n",
      "yt : [INFO     ] 2021-06-30 19:52:12,261 Parameters: current_time              = 0.010180726\n",
      "yt : [INFO     ] 2021-06-30 19:52:12,262 Parameters: domain_dimensions         = [256   1   1]\n",
      "yt : [INFO     ] 2021-06-30 19:52:12,263 Parameters: domain_left_edge          = [-0.5 -0.5 -0.5]\n",
      "yt : [INFO     ] 2021-06-30 19:52:12,264 Parameters: domain_right_edge         = [0.5 0.5 0.5]\n",
      "yt : [INFO     ] 2021-06-30 19:52:12,265 Parameters: cosmological_simulation   = 0.0\n",
      "yt : [WARNING  ] 2021-06-30 19:52:12,292 Assuming 1.0 = 1.0 cm\n",
      "yt : [WARNING  ] 2021-06-30 19:52:12,294 Assuming 1.0 = 1.0 s\n",
      "yt : [WARNING  ] 2021-06-30 19:52:12,295 Assuming 1.0 = 1.0 g\n",
      "yt : [WARNING  ] 2021-06-30 19:52:12,296 Assuming 1.0 = 1.0 K\n",
      "yt : [INFO     ] 2021-06-30 19:52:12,310 Parameters: current_time              = 0.020227179\n",
      "yt : [INFO     ] 2021-06-30 19:52:12,311 Parameters: domain_dimensions         = [256   1   1]\n",
      "yt : [INFO     ] 2021-06-30 19:52:12,312 Parameters: domain_left_edge          = [-0.5 -0.5 -0.5]\n",
      "yt : [INFO     ] 2021-06-30 19:52:12,313 Parameters: domain_right_edge         = [0.5 0.5 0.5]\n",
      "yt : [INFO     ] 2021-06-30 19:52:12,314 Parameters: cosmological_simulation   = 0.0\n",
      "yt : [WARNING  ] 2021-06-30 19:52:12,342 Assuming 1.0 = 1.0 cm\n",
      "yt : [WARNING  ] 2021-06-30 19:52:12,343 Assuming 1.0 = 1.0 s\n",
      "yt : [WARNING  ] 2021-06-30 19:52:12,344 Assuming 1.0 = 1.0 g\n",
      "yt : [WARNING  ] 2021-06-30 19:52:12,345 Assuming 1.0 = 1.0 K\n",
      "yt : [INFO     ] 2021-06-30 19:52:12,360 Parameters: current_time              = 0.030092461\n",
      "yt : [INFO     ] 2021-06-30 19:52:12,361 Parameters: domain_dimensions         = [256   1   1]\n",
      "yt : [INFO     ] 2021-06-30 19:52:12,362 Parameters: domain_left_edge          = [-0.5 -0.5 -0.5]\n",
      "yt : [INFO     ] 2021-06-30 19:52:12,363 Parameters: domain_right_edge         = [0.5 0.5 0.5]\n",
      "yt : [INFO     ] 2021-06-30 19:52:12,364 Parameters: cosmological_simulation   = 0.0\n",
      "yt : [WARNING  ] 2021-06-30 19:52:12,391 Assuming 1.0 = 1.0 cm\n",
      "yt : [WARNING  ] 2021-06-30 19:52:12,392 Assuming 1.0 = 1.0 s\n",
      "yt : [WARNING  ] 2021-06-30 19:52:12,393 Assuming 1.0 = 1.0 g\n",
      "yt : [WARNING  ] 2021-06-30 19:52:12,394 Assuming 1.0 = 1.0 K\n",
      "yt : [INFO     ] 2021-06-30 19:52:12,408 Parameters: current_time              = 0.04139032\n",
      "yt : [INFO     ] 2021-06-30 19:52:12,409 Parameters: domain_dimensions         = [256   1   1]\n",
      "yt : [INFO     ] 2021-06-30 19:52:12,410 Parameters: domain_left_edge          = [-0.5 -0.5 -0.5]\n",
      "yt : [INFO     ] 2021-06-30 19:52:12,411 Parameters: domain_right_edge         = [0.5 0.5 0.5]\n",
      "yt : [INFO     ] 2021-06-30 19:52:12,412 Parameters: cosmological_simulation   = 0.0\n",
      "yt : [WARNING  ] 2021-06-30 19:52:12,442 Assuming 1.0 = 1.0 cm\n",
      "yt : [WARNING  ] 2021-06-30 19:52:12,444 Assuming 1.0 = 1.0 s\n",
      "yt : [WARNING  ] 2021-06-30 19:52:12,445 Assuming 1.0 = 1.0 g\n",
      "yt : [WARNING  ] 2021-06-30 19:52:12,446 Assuming 1.0 = 1.0 K\n",
      "yt : [INFO     ] 2021-06-30 19:52:12,459 Parameters: current_time              = 0.051315658\n",
      "yt : [INFO     ] 2021-06-30 19:52:12,460 Parameters: domain_dimensions         = [256   1   1]\n",
      "yt : [INFO     ] 2021-06-30 19:52:12,461 Parameters: domain_left_edge          = [-0.5 -0.5 -0.5]\n",
      "yt : [INFO     ] 2021-06-30 19:52:12,462 Parameters: domain_right_edge         = [0.5 0.5 0.5]\n",
      "yt : [INFO     ] 2021-06-30 19:52:12,463 Parameters: cosmological_simulation   = 0.0\n",
      "yt : [WARNING  ] 2021-06-30 19:52:12,491 Assuming 1.0 = 1.0 cm\n",
      "yt : [WARNING  ] 2021-06-30 19:52:12,492 Assuming 1.0 = 1.0 s\n",
      "yt : [WARNING  ] 2021-06-30 19:52:12,493 Assuming 1.0 = 1.0 g\n",
      "yt : [WARNING  ] 2021-06-30 19:52:12,494 Assuming 1.0 = 1.0 K\n",
      "yt : [INFO     ] 2021-06-30 19:52:12,507 Parameters: current_time              = 0.06126249\n",
      "yt : [INFO     ] 2021-06-30 19:52:12,508 Parameters: domain_dimensions         = [256   1   1]\n",
      "yt : [INFO     ] 2021-06-30 19:52:12,509 Parameters: domain_left_edge          = [-0.5 -0.5 -0.5]\n",
      "yt : [INFO     ] 2021-06-30 19:52:12,511 Parameters: domain_right_edge         = [0.5 0.5 0.5]\n",
      "yt : [INFO     ] 2021-06-30 19:52:12,512 Parameters: cosmological_simulation   = 0.0\n",
      "yt : [WARNING  ] 2021-06-30 19:52:12,540 Assuming 1.0 = 1.0 cm\n",
      "yt : [WARNING  ] 2021-06-30 19:52:12,541 Assuming 1.0 = 1.0 s\n",
      "yt : [WARNING  ] 2021-06-30 19:52:12,542 Assuming 1.0 = 1.0 g\n",
      "yt : [WARNING  ] 2021-06-30 19:52:12,543 Assuming 1.0 = 1.0 K\n",
      "yt : [INFO     ] 2021-06-30 19:52:12,558 Parameters: current_time              = 0.071214214\n",
      "yt : [INFO     ] 2021-06-30 19:52:12,559 Parameters: domain_dimensions         = [256   1   1]\n",
      "yt : [INFO     ] 2021-06-30 19:52:12,560 Parameters: domain_left_edge          = [-0.5 -0.5 -0.5]\n",
      "yt : [INFO     ] 2021-06-30 19:52:12,562 Parameters: domain_right_edge         = [0.5 0.5 0.5]\n",
      "yt : [INFO     ] 2021-06-30 19:52:12,563 Parameters: cosmological_simulation   = 0.0\n",
      "yt : [WARNING  ] 2021-06-30 19:52:12,589 Assuming 1.0 = 1.0 cm\n",
      "yt : [WARNING  ] 2021-06-30 19:52:12,591 Assuming 1.0 = 1.0 s\n",
      "yt : [WARNING  ] 2021-06-30 19:52:12,592 Assuming 1.0 = 1.0 g\n",
      "yt : [WARNING  ] 2021-06-30 19:52:12,593 Assuming 1.0 = 1.0 K\n",
      "yt : [INFO     ] 2021-06-30 19:52:12,606 Parameters: current_time              = 0.08116968\n",
      "yt : [INFO     ] 2021-06-30 19:52:12,607 Parameters: domain_dimensions         = [256   1   1]\n",
      "yt : [INFO     ] 2021-06-30 19:52:12,608 Parameters: domain_left_edge          = [-0.5 -0.5 -0.5]\n",
      "yt : [INFO     ] 2021-06-30 19:52:12,609 Parameters: domain_right_edge         = [0.5 0.5 0.5]\n",
      "yt : [INFO     ] 2021-06-30 19:52:12,611 Parameters: cosmological_simulation   = 0.0\n",
      "yt : [WARNING  ] 2021-06-30 19:52:12,638 Assuming 1.0 = 1.0 cm\n",
      "yt : [WARNING  ] 2021-06-30 19:52:12,640 Assuming 1.0 = 1.0 s\n",
      "yt : [WARNING  ] 2021-06-30 19:52:12,641 Assuming 1.0 = 1.0 g\n",
      "yt : [WARNING  ] 2021-06-30 19:52:12,642 Assuming 1.0 = 1.0 K\n",
      "yt : [INFO     ] 2021-06-30 19:52:12,655 Parameters: current_time              = 0.09112838\n",
      "yt : [INFO     ] 2021-06-30 19:52:12,656 Parameters: domain_dimensions         = [256   1   1]\n",
      "yt : [INFO     ] 2021-06-30 19:52:12,657 Parameters: domain_left_edge          = [-0.5 -0.5 -0.5]\n",
      "yt : [INFO     ] 2021-06-30 19:52:12,658 Parameters: domain_right_edge         = [0.5 0.5 0.5]\n",
      "yt : [INFO     ] 2021-06-30 19:52:12,659 Parameters: cosmological_simulation   = 0.0\n",
      "yt : [WARNING  ] 2021-06-30 19:52:12,692 Assuming 1.0 = 1.0 cm\n",
      "yt : [WARNING  ] 2021-06-30 19:52:12,693 Assuming 1.0 = 1.0 s\n",
      "yt : [WARNING  ] 2021-06-30 19:52:12,694 Assuming 1.0 = 1.0 g\n",
      "yt : [WARNING  ] 2021-06-30 19:52:12,695 Assuming 1.0 = 1.0 K\n",
      "yt : [INFO     ] 2021-06-30 19:52:12,707 Parameters: current_time              = 0.101089604\n",
      "yt : [INFO     ] 2021-06-30 19:52:12,708 Parameters: domain_dimensions         = [256   1   1]\n",
      "yt : [INFO     ] 2021-06-30 19:52:12,709 Parameters: domain_left_edge          = [-0.5 -0.5 -0.5]\n",
      "yt : [INFO     ] 2021-06-30 19:52:12,711 Parameters: domain_right_edge         = [0.5 0.5 0.5]\n",
      "yt : [INFO     ] 2021-06-30 19:52:12,712 Parameters: cosmological_simulation   = 0.0\n",
      "yt : [WARNING  ] 2021-06-30 19:52:12,742 Assuming 1.0 = 1.0 cm\n",
      "yt : [WARNING  ] 2021-06-30 19:52:12,743 Assuming 1.0 = 1.0 s\n",
      "yt : [WARNING  ] 2021-06-30 19:52:12,744 Assuming 1.0 = 1.0 g\n",
      "yt : [WARNING  ] 2021-06-30 19:52:12,746 Assuming 1.0 = 1.0 K\n",
      "yt : [INFO     ] 2021-06-30 19:52:12,757 Parameters: current_time              = 0.111052796\n"
     ]
    },
    {
     "name": "stderr",
     "output_type": "stream",
     "text": [
      "yt : [INFO     ] 2021-06-30 19:52:12,758 Parameters: domain_dimensions         = [256   1   1]\n",
      "yt : [INFO     ] 2021-06-30 19:52:12,759 Parameters: domain_left_edge          = [-0.5 -0.5 -0.5]\n",
      "yt : [INFO     ] 2021-06-30 19:52:12,760 Parameters: domain_right_edge         = [0.5 0.5 0.5]\n",
      "yt : [INFO     ] 2021-06-30 19:52:12,761 Parameters: cosmological_simulation   = 0.0\n",
      "yt : [WARNING  ] 2021-06-30 19:52:12,789 Assuming 1.0 = 1.0 cm\n",
      "yt : [WARNING  ] 2021-06-30 19:52:12,791 Assuming 1.0 = 1.0 s\n",
      "yt : [WARNING  ] 2021-06-30 19:52:12,791 Assuming 1.0 = 1.0 g\n",
      "yt : [WARNING  ] 2021-06-30 19:52:12,793 Assuming 1.0 = 1.0 K\n",
      "yt : [INFO     ] 2021-06-30 19:52:12,806 Parameters: current_time              = 0.12101759\n",
      "yt : [INFO     ] 2021-06-30 19:52:12,807 Parameters: domain_dimensions         = [256   1   1]\n",
      "yt : [INFO     ] 2021-06-30 19:52:12,809 Parameters: domain_left_edge          = [-0.5 -0.5 -0.5]\n",
      "yt : [INFO     ] 2021-06-30 19:52:12,809 Parameters: domain_right_edge         = [0.5 0.5 0.5]\n",
      "yt : [INFO     ] 2021-06-30 19:52:12,810 Parameters: cosmological_simulation   = 0.0\n",
      "yt : [WARNING  ] 2021-06-30 19:52:12,838 Assuming 1.0 = 1.0 cm\n",
      "yt : [WARNING  ] 2021-06-30 19:52:12,840 Assuming 1.0 = 1.0 s\n",
      "yt : [WARNING  ] 2021-06-30 19:52:12,841 Assuming 1.0 = 1.0 g\n",
      "yt : [WARNING  ] 2021-06-30 19:52:12,842 Assuming 1.0 = 1.0 K\n",
      "yt : [INFO     ] 2021-06-30 19:52:12,855 Parameters: current_time              = 0.13098378\n",
      "yt : [INFO     ] 2021-06-30 19:52:12,856 Parameters: domain_dimensions         = [256   1   1]\n",
      "yt : [INFO     ] 2021-06-30 19:52:12,856 Parameters: domain_left_edge          = [-0.5 -0.5 -0.5]\n",
      "yt : [INFO     ] 2021-06-30 19:52:12,857 Parameters: domain_right_edge         = [0.5 0.5 0.5]\n",
      "yt : [INFO     ] 2021-06-30 19:52:12,858 Parameters: cosmological_simulation   = 0.0\n",
      "yt : [WARNING  ] 2021-06-30 19:52:12,886 Assuming 1.0 = 1.0 cm\n",
      "yt : [WARNING  ] 2021-06-30 19:52:12,888 Assuming 1.0 = 1.0 s\n",
      "yt : [WARNING  ] 2021-06-30 19:52:12,889 Assuming 1.0 = 1.0 g\n",
      "yt : [WARNING  ] 2021-06-30 19:52:12,890 Assuming 1.0 = 1.0 K\n",
      "yt : [INFO     ] 2021-06-30 19:52:12,905 Parameters: current_time              = 0.14095119\n",
      "yt : [INFO     ] 2021-06-30 19:52:12,906 Parameters: domain_dimensions         = [256   1   1]\n",
      "yt : [INFO     ] 2021-06-30 19:52:12,907 Parameters: domain_left_edge          = [-0.5 -0.5 -0.5]\n",
      "yt : [INFO     ] 2021-06-30 19:52:12,908 Parameters: domain_right_edge         = [0.5 0.5 0.5]\n",
      "yt : [INFO     ] 2021-06-30 19:52:12,908 Parameters: cosmological_simulation   = 0.0\n",
      "yt : [WARNING  ] 2021-06-30 19:52:12,936 Assuming 1.0 = 1.0 cm\n",
      "yt : [WARNING  ] 2021-06-30 19:52:12,938 Assuming 1.0 = 1.0 s\n",
      "yt : [WARNING  ] 2021-06-30 19:52:12,938 Assuming 1.0 = 1.0 g\n",
      "yt : [WARNING  ] 2021-06-30 19:52:12,940 Assuming 1.0 = 1.0 K\n",
      "yt : [INFO     ] 2021-06-30 19:52:12,951 Parameters: current_time              = 0.15091963\n",
      "yt : [INFO     ] 2021-06-30 19:52:12,952 Parameters: domain_dimensions         = [256   1   1]\n",
      "yt : [INFO     ] 2021-06-30 19:52:12,953 Parameters: domain_left_edge          = [-0.5 -0.5 -0.5]\n",
      "yt : [INFO     ] 2021-06-30 19:52:12,954 Parameters: domain_right_edge         = [0.5 0.5 0.5]\n",
      "yt : [INFO     ] 2021-06-30 19:52:12,955 Parameters: cosmological_simulation   = 0.0\n",
      "yt : [WARNING  ] 2021-06-30 19:52:12,981 Assuming 1.0 = 1.0 cm\n",
      "yt : [WARNING  ] 2021-06-30 19:52:12,982 Assuming 1.0 = 1.0 s\n",
      "yt : [WARNING  ] 2021-06-30 19:52:12,983 Assuming 1.0 = 1.0 g\n",
      "yt : [WARNING  ] 2021-06-30 19:52:12,984 Assuming 1.0 = 1.0 K\n",
      "yt : [INFO     ] 2021-06-30 19:52:12,997 Parameters: current_time              = 0.160889\n",
      "yt : [INFO     ] 2021-06-30 19:52:12,998 Parameters: domain_dimensions         = [256   1   1]\n",
      "yt : [INFO     ] 2021-06-30 19:52:12,999 Parameters: domain_left_edge          = [-0.5 -0.5 -0.5]\n",
      "yt : [INFO     ] 2021-06-30 19:52:13,000 Parameters: domain_right_edge         = [0.5 0.5 0.5]\n",
      "yt : [INFO     ] 2021-06-30 19:52:13,002 Parameters: cosmological_simulation   = 0.0\n",
      "yt : [WARNING  ] 2021-06-30 19:52:13,037 Assuming 1.0 = 1.0 cm\n",
      "yt : [WARNING  ] 2021-06-30 19:52:13,038 Assuming 1.0 = 1.0 s\n",
      "yt : [WARNING  ] 2021-06-30 19:52:13,039 Assuming 1.0 = 1.0 g\n",
      "yt : [WARNING  ] 2021-06-30 19:52:13,040 Assuming 1.0 = 1.0 K\n",
      "yt : [INFO     ] 2021-06-30 19:52:13,053 Parameters: current_time              = 0.17085914\n",
      "yt : [INFO     ] 2021-06-30 19:52:13,054 Parameters: domain_dimensions         = [256   1   1]\n",
      "yt : [INFO     ] 2021-06-30 19:52:13,055 Parameters: domain_left_edge          = [-0.5 -0.5 -0.5]\n",
      "yt : [INFO     ] 2021-06-30 19:52:13,056 Parameters: domain_right_edge         = [0.5 0.5 0.5]\n",
      "yt : [INFO     ] 2021-06-30 19:52:13,056 Parameters: cosmological_simulation   = 0.0\n",
      "yt : [WARNING  ] 2021-06-30 19:52:13,084 Assuming 1.0 = 1.0 cm\n",
      "yt : [WARNING  ] 2021-06-30 19:52:13,085 Assuming 1.0 = 1.0 s\n",
      "yt : [WARNING  ] 2021-06-30 19:52:13,087 Assuming 1.0 = 1.0 g\n",
      "yt : [WARNING  ] 2021-06-30 19:52:13,088 Assuming 1.0 = 1.0 K\n",
      "yt : [INFO     ] 2021-06-30 19:52:13,101 Parameters: current_time              = 0.18083002\n",
      "yt : [INFO     ] 2021-06-30 19:52:13,102 Parameters: domain_dimensions         = [256   1   1]\n",
      "yt : [INFO     ] 2021-06-30 19:52:13,103 Parameters: domain_left_edge          = [-0.5 -0.5 -0.5]\n",
      "yt : [INFO     ] 2021-06-30 19:52:13,104 Parameters: domain_right_edge         = [0.5 0.5 0.5]\n",
      "yt : [INFO     ] 2021-06-30 19:52:13,104 Parameters: cosmological_simulation   = 0.0\n",
      "yt : [WARNING  ] 2021-06-30 19:52:13,131 Assuming 1.0 = 1.0 cm\n",
      "yt : [WARNING  ] 2021-06-30 19:52:13,133 Assuming 1.0 = 1.0 s\n",
      "yt : [WARNING  ] 2021-06-30 19:52:13,133 Assuming 1.0 = 1.0 g\n",
      "yt : [WARNING  ] 2021-06-30 19:52:13,134 Assuming 1.0 = 1.0 K\n",
      "yt : [INFO     ] 2021-06-30 19:52:13,148 Parameters: current_time              = 0.1908015\n",
      "yt : [INFO     ] 2021-06-30 19:52:13,149 Parameters: domain_dimensions         = [256   1   1]\n",
      "yt : [INFO     ] 2021-06-30 19:52:13,150 Parameters: domain_left_edge          = [-0.5 -0.5 -0.5]\n",
      "yt : [INFO     ] 2021-06-30 19:52:13,151 Parameters: domain_right_edge         = [0.5 0.5 0.5]\n",
      "yt : [INFO     ] 2021-06-30 19:52:13,153 Parameters: cosmological_simulation   = 0.0\n",
      "yt : [WARNING  ] 2021-06-30 19:52:13,188 Assuming 1.0 = 1.0 cm\n",
      "yt : [WARNING  ] 2021-06-30 19:52:13,190 Assuming 1.0 = 1.0 s\n",
      "yt : [WARNING  ] 2021-06-30 19:52:13,191 Assuming 1.0 = 1.0 g\n",
      "yt : [WARNING  ] 2021-06-30 19:52:13,192 Assuming 1.0 = 1.0 K\n",
      "yt : [INFO     ] 2021-06-30 19:52:13,208 Parameters: current_time              = 0.20077355\n",
      "yt : [INFO     ] 2021-06-30 19:52:13,209 Parameters: domain_dimensions         = [256   1   1]\n",
      "yt : [INFO     ] 2021-06-30 19:52:13,211 Parameters: domain_left_edge          = [-0.5 -0.5 -0.5]\n",
      "yt : [INFO     ] 2021-06-30 19:52:13,212 Parameters: domain_right_edge         = [0.5 0.5 0.5]\n",
      "yt : [INFO     ] 2021-06-30 19:52:13,213 Parameters: cosmological_simulation   = 0.0\n",
      "yt : [WARNING  ] 2021-06-30 19:52:13,239 Assuming 1.0 = 1.0 cm\n",
      "yt : [WARNING  ] 2021-06-30 19:52:13,240 Assuming 1.0 = 1.0 s\n",
      "yt : [WARNING  ] 2021-06-30 19:52:13,241 Assuming 1.0 = 1.0 g\n",
      "yt : [WARNING  ] 2021-06-30 19:52:13,242 Assuming 1.0 = 1.0 K\n",
      "yt : [INFO     ] 2021-06-30 19:52:13,254 Parameters: current_time              = 0.21074608\n",
      "yt : [INFO     ] 2021-06-30 19:52:13,254 Parameters: domain_dimensions         = [256   1   1]\n",
      "yt : [INFO     ] 2021-06-30 19:52:13,255 Parameters: domain_left_edge          = [-0.5 -0.5 -0.5]\n",
      "yt : [INFO     ] 2021-06-30 19:52:13,256 Parameters: domain_right_edge         = [0.5 0.5 0.5]\n",
      "yt : [INFO     ] 2021-06-30 19:52:13,257 Parameters: cosmological_simulation   = 0.0\n",
      "yt : [WARNING  ] 2021-06-30 19:52:13,284 Assuming 1.0 = 1.0 cm\n",
      "yt : [WARNING  ] 2021-06-30 19:52:13,286 Assuming 1.0 = 1.0 s\n",
      "yt : [WARNING  ] 2021-06-30 19:52:13,287 Assuming 1.0 = 1.0 g\n",
      "yt : [WARNING  ] 2021-06-30 19:52:13,288 Assuming 1.0 = 1.0 K\n",
      "yt : [INFO     ] 2021-06-30 19:52:13,303 Parameters: current_time              = 0.22071907\n",
      "yt : [INFO     ] 2021-06-30 19:52:13,304 Parameters: domain_dimensions         = [256   1   1]\n",
      "yt : [INFO     ] 2021-06-30 19:52:13,305 Parameters: domain_left_edge          = [-0.5 -0.5 -0.5]\n",
      "yt : [INFO     ] 2021-06-30 19:52:13,306 Parameters: domain_right_edge         = [0.5 0.5 0.5]\n",
      "yt : [INFO     ] 2021-06-30 19:52:13,307 Parameters: cosmological_simulation   = 0.0\n"
     ]
    },
    {
     "name": "stderr",
     "output_type": "stream",
     "text": [
      "yt : [WARNING  ] 2021-06-30 19:52:13,336 Assuming 1.0 = 1.0 cm\n",
      "yt : [WARNING  ] 2021-06-30 19:52:13,337 Assuming 1.0 = 1.0 s\n",
      "yt : [WARNING  ] 2021-06-30 19:52:13,338 Assuming 1.0 = 1.0 g\n",
      "yt : [WARNING  ] 2021-06-30 19:52:13,339 Assuming 1.0 = 1.0 K\n",
      "yt : [INFO     ] 2021-06-30 19:52:13,353 Parameters: current_time              = 0.23069245\n",
      "yt : [INFO     ] 2021-06-30 19:52:13,354 Parameters: domain_dimensions         = [256   1   1]\n",
      "yt : [INFO     ] 2021-06-30 19:52:13,355 Parameters: domain_left_edge          = [-0.5 -0.5 -0.5]\n",
      "yt : [INFO     ] 2021-06-30 19:52:13,356 Parameters: domain_right_edge         = [0.5 0.5 0.5]\n",
      "yt : [INFO     ] 2021-06-30 19:52:13,356 Parameters: cosmological_simulation   = 0.0\n",
      "yt : [WARNING  ] 2021-06-30 19:52:13,386 Assuming 1.0 = 1.0 cm\n",
      "yt : [WARNING  ] 2021-06-30 19:52:13,387 Assuming 1.0 = 1.0 s\n",
      "yt : [WARNING  ] 2021-06-30 19:52:13,388 Assuming 1.0 = 1.0 g\n",
      "yt : [WARNING  ] 2021-06-30 19:52:13,389 Assuming 1.0 = 1.0 K\n",
      "yt : [INFO     ] 2021-06-30 19:52:13,403 Parameters: current_time              = 0.24066621\n",
      "yt : [INFO     ] 2021-06-30 19:52:13,404 Parameters: domain_dimensions         = [256   1   1]\n",
      "yt : [INFO     ] 2021-06-30 19:52:13,405 Parameters: domain_left_edge          = [-0.5 -0.5 -0.5]\n",
      "yt : [INFO     ] 2021-06-30 19:52:13,406 Parameters: domain_right_edge         = [0.5 0.5 0.5]\n",
      "yt : [INFO     ] 2021-06-30 19:52:13,407 Parameters: cosmological_simulation   = 0.0\n",
      "yt : [WARNING  ] 2021-06-30 19:52:13,428 Assuming 1.0 = 1.0 cm\n",
      "yt : [WARNING  ] 2021-06-30 19:52:13,429 Assuming 1.0 = 1.0 s\n",
      "yt : [WARNING  ] 2021-06-30 19:52:13,430 Assuming 1.0 = 1.0 g\n",
      "yt : [WARNING  ] 2021-06-30 19:52:13,432 Assuming 1.0 = 1.0 K\n",
      "yt : [INFO     ] 2021-06-30 19:52:13,447 Parameters: current_time              = 0.25\n",
      "yt : [INFO     ] 2021-06-30 19:52:13,448 Parameters: domain_dimensions         = [256   1   1]\n",
      "yt : [INFO     ] 2021-06-30 19:52:13,449 Parameters: domain_left_edge          = [-0.5 -0.5 -0.5]\n",
      "yt : [INFO     ] 2021-06-30 19:52:13,449 Parameters: domain_right_edge         = [0.5 0.5 0.5]\n",
      "yt : [INFO     ] 2021-06-30 19:52:13,451 Parameters: cosmological_simulation   = 0.0\n"
     ]
    },
    {
     "name": "stdout",
     "output_type": "stream",
     "text": [
      "Available fields from the HDF5 file: \n",
      "('athena_pp', 'press')\n",
      "('athena_pp', 'rho')\n",
      "('athena_pp', 'vel1')\n",
      "('athena_pp', 'vel2')\n",
      "('athena_pp', 'vel3')\n",
      "\n",
      "The density variable in cgs units: \n",
      "[1.    1.    1.    1.    1.    1.    1.    1.    1.    1.    1.    1.\n",
      " 1.    1.    1.    1.    1.    1.    1.    1.    1.    1.    1.    1.\n",
      " 1.    1.    1.    1.    1.    1.    1.    1.    1.    1.    1.    1.\n",
      " 1.    1.    1.    1.    1.    1.    1.    1.    1.    1.    1.    1.\n",
      " 1.    1.    1.    1.    1.    1.    1.    1.    1.    1.    1.    1.\n",
      " 1.    1.    1.    1.    1.    1.    1.    1.    1.    1.    1.    1.\n",
      " 1.    1.    1.    1.    1.    1.    1.    1.    1.    1.    1.    1.\n",
      " 1.    1.    1.    1.    1.    1.    1.    1.    1.    1.    1.    1.\n",
      " 1.    1.    1.    1.    1.    1.    1.    1.    1.    1.    1.    1.\n",
      " 1.    1.    1.    1.    1.    1.    1.    1.    1.    1.    1.    1.\n",
      " 1.    1.    1.    1.    1.    1.    1.    1.    0.125 0.125 0.125 0.125\n",
      " 0.125 0.125 0.125 0.125 0.125 0.125 0.125 0.125 0.125 0.125 0.125 0.125\n",
      " 0.125 0.125 0.125 0.125 0.125 0.125 0.125 0.125 0.125 0.125 0.125 0.125\n",
      " 0.125 0.125 0.125 0.125 0.125 0.125 0.125 0.125 0.125 0.125 0.125 0.125\n",
      " 0.125 0.125 0.125 0.125 0.125 0.125 0.125 0.125 0.125 0.125 0.125 0.125\n",
      " 0.125 0.125 0.125 0.125 0.125 0.125 0.125 0.125 0.125 0.125 0.125 0.125\n",
      " 0.125 0.125 0.125 0.125 0.125 0.125 0.125 0.125 0.125 0.125 0.125 0.125\n",
      " 0.125 0.125 0.125 0.125 0.125 0.125 0.125 0.125 0.125 0.125 0.125 0.125\n",
      " 0.125 0.125 0.125 0.125 0.125 0.125 0.125 0.125 0.125 0.125 0.125 0.125\n",
      " 0.125 0.125 0.125 0.125 0.125 0.125 0.125 0.125 0.125 0.125 0.125 0.125\n",
      " 0.125 0.125 0.125 0.125 0.125 0.125 0.125 0.125 0.125 0.125 0.125 0.125\n",
      " 0.125 0.125 0.125 0.125] g/cm**3\n"
     ]
    }
   ],
   "source": [
    "dsLst = []\n",
    "for file in fileLst:\n",
    "    ds = yt.load(file)\n",
    "    dsLst.append(ds)\n",
    "    \n",
    "print(\"Available fields from the HDF5 file: \")\n",
    "for entry in dsLst[0].field_list:\n",
    "    print(entry)\n",
    "print()\n",
    "print(\"The density variable in cgs units: \")\n",
    "ad = dsLst[0].all_data()\n",
    "print(ad['athena_pp','rho'].in_base('cgs'))"
   ]
  },
  {
   "cell_type": "code",
   "execution_count": 8,
   "metadata": {
    "scrolled": true
   },
   "outputs": [
    {
     "data": {
      "text/plain": [
       "[<matplotlib.lines.Line2D at 0x18023c79ca0>]"
      ]
     },
     "execution_count": 8,
     "metadata": {},
     "output_type": "execute_result"
    },
    {
     "data": {
      "image/png": "[encoded data removed]",
      "text/plain": [
       "<Figure size 432x288 with 1 Axes>"
      ]
     },
     "metadata": {
      "needs_background": "light"
     },
     "output_type": "display_data"
    }
   ],
   "source": [
    "ad = dsLst[0].all_data()\n",
    "plt.plot(ad['rho'])"
   ]
  },
  {
   "cell_type": "code",
   "execution_count": 9,
   "metadata": {},
   "outputs": [
    {
     "data": {
      "text/plain": [
       "[<matplotlib.lines.Line2D at 0x18025da23a0>]"
      ]
     },
     "execution_count": 9,
     "metadata": {},
     "output_type": "execute_result"
    },
    {
     "data": {
      "image/png": "[encoded data removed]",
      "text/plain": [
       "<Figure size 432x288 with 1 Axes>"
      ]
     },
     "metadata": {
      "needs_background": "light"
     },
     "output_type": "display_data"
    }
   ],
   "source": [
    "ad = dsLst[25].all_data()\n",
    "plt.plot(ad['rho']) #this is temperature"
   ]
  },
  {
   "cell_type": "code",
   "execution_count": 10,
   "metadata": {},
   "outputs": [
    {
     "data": {
      "text/plain": [
       "[<matplotlib.lines.Line2D at 0x18025dfb1f0>]"
      ]
     },
     "execution_count": 10,
     "metadata": {},
     "output_type": "execute_result"
    },
    {
     "data": {
      "image/png": "[encoded data removed]",
      "text/plain": [
       "<Figure size 432x288 with 1 Axes>"
      ]
     },
     "metadata": {
      "needs_background": "light"
     },
     "output_type": "display_data"
    }
   ],
   "source": [
    "ad = dsLst[0].all_data()\n",
    "plt.plot(ad['press']/ad['rho']) #this is temperature"
   ]
  },
  {
   "cell_type": "code",
   "execution_count": 11,
   "metadata": {},
   "outputs": [
    {
     "data": {
      "text/plain": [
       "[<matplotlib.lines.Line2D at 0x18025e58190>]"
      ]
     },
     "execution_count": 11,
     "metadata": {},
     "output_type": "execute_result"
    },
    {
     "data": {
      "image/png": "[encoded data removed]",
      "text/plain": [
       "<Figure size 432x288 with 1 Axes>"
      ]
     },
     "metadata": {
      "needs_background": "light"
     },
     "output_type": "display_data"
    }
   ],
   "source": [
    "ad = dsLst[25].all_data()\n",
    "plt.plot(ad['press']/ad['rho']) #this is temperature"
   ]
  }
 ],
 "metadata": {
  "kernelspec": {
   "display_name": "Python 3",
   "language": "python",
   "name": "python3"
  },
  "language_info": {
   "codemirror_mode": {
    "name": "ipython",
    "version": 3
   },
   "file_extension": ".py",
   "mimetype": "text/x-python",
   "name": "python",
   "nbconvert_exporter": "python",
   "pygments_lexer": "ipython3",
   "version": "3.8.3"
  }
 },
 "nbformat": 4,
 "nbformat_minor": 4
}
