{
 "cells": [
  {
   "cell_type": "markdown",
   "metadata": {},
   "source": [
    "# Plotting Summary\n",
    "Sherry Wong, 9 June 2021\n",
    "\n",
    "\n",
    "This notebook serves the purpose of consolidating all code from Fall 2020-2021.\n",
    "\n",
    "### Import relevant packages:"
   ]
  },
  {
   "cell_type": "code",
   "execution_count": 1,
   "metadata": {},
   "outputs": [],
   "source": [
    "import yt\n",
    "from yt.units import kpc #for yt unit\n",
    "\n",
    "import os #for file navigation\n",
    "import os.path\n",
    "from os import path\n",
    "\n",
    "import shutil #remove excess files\n",
    "import time #record runtime\n",
    "\n",
    "import matplotlib\n",
    "import matplotlib.pyplot as plt\n",
    "from matplotlib import ticker, cm #for log scale\n",
    "\n",
    "import moviepy #for gif making\n",
    "from moviepy.editor import ImageSequenceClip #for gif making\n",
    "import beepy #sound for when the code is done running\n",
    "import numpy as np #for working with numbers\n"
   ]
  },
  {
   "cell_type": "markdown",
   "metadata": {},
   "source": [
    "## 1. Plotting in Matplotlib\n",
    "### 1.1 Read/load files:"
   ]
  },
  {
   "cell_type": "code",
   "execution_count": 2,
   "metadata": {},
   "outputs": [
    {
     "ename": "OSError",
     "evalue": "Unable to open file (unable to open file: name = 'C:\\Users\\wongb\\Documents\\URS Data\\m1.5_c1_16x16_128x128_Rodrigues_Streaming\\More Plot Files\\parkerCRs_hdf5_plt_cnt_0076', errno = 2, error message = 'No such file or directory', flags = 0, o_flags = 0)",
     "output_type": "error",
     "traceback": [
      "\u001b[1;31m---------------------------------------------------------------------------\u001b[0m",
      "\u001b[1;31mOSError\u001b[0m                                   Traceback (most recent call last)",
      "\u001b[1;32m<ipython-input-2-02b0f1161825>\u001b[0m in \u001b[0;36m<module>\u001b[1;34m\u001b[0m\n\u001b[0;32m     45\u001b[0m \u001b[1;31m#filename = \"/mnt/c/Users/wongb/Documents/URS Data/m1.5_c1_16x16_128x128_Rodrigues_Streaming/More Plot Files/parkerCRs_hdf5_plt_cnt_0000\"\u001b[0m\u001b[1;33m\u001b[0m\u001b[1;33m\u001b[0m\u001b[1;33m\u001b[0m\u001b[0m\n\u001b[0;32m     46\u001b[0m \u001b[1;33m\u001b[0m\u001b[0m\n\u001b[1;32m---> 47\u001b[1;33m \u001b[0mdict\u001b[0m \u001b[1;33m=\u001b[0m \u001b[0mfileInputTest\u001b[0m\u001b[1;33m(\u001b[0m\u001b[0mfilename\u001b[0m\u001b[1;33m)\u001b[0m\u001b[1;33m\u001b[0m\u001b[1;33m\u001b[0m\u001b[0m\n\u001b[0m\u001b[0;32m     48\u001b[0m \u001b[1;33m\u001b[0m\u001b[0m\n\u001b[0;32m     49\u001b[0m \u001b[1;31m#print(dict)\u001b[0m\u001b[1;33m\u001b[0m\u001b[1;33m\u001b[0m\u001b[1;33m\u001b[0m\u001b[0m\n",
      "\u001b[1;32m<ipython-input-2-02b0f1161825>\u001b[0m in \u001b[0;36mfileInputTest\u001b[1;34m(fileName)\u001b[0m\n\u001b[0;32m      3\u001b[0m \u001b[1;31m#This method reads in a file, and creates a dictionary of relevant variables.\u001b[0m\u001b[1;33m\u001b[0m\u001b[1;33m\u001b[0m\u001b[1;33m\u001b[0m\u001b[0m\n\u001b[0;32m      4\u001b[0m \u001b[1;32mdef\u001b[0m \u001b[0mfileInputTest\u001b[0m\u001b[1;33m(\u001b[0m\u001b[0mfileName\u001b[0m\u001b[1;33m)\u001b[0m\u001b[1;33m:\u001b[0m\u001b[1;33m\u001b[0m\u001b[1;33m\u001b[0m\u001b[0m\n\u001b[1;32m----> 5\u001b[1;33m     \u001b[0mf2\u001b[0m \u001b[1;33m=\u001b[0m \u001b[0mh5py\u001b[0m\u001b[1;33m.\u001b[0m\u001b[0mFile\u001b[0m\u001b[1;33m(\u001b[0m\u001b[0mfileName\u001b[0m\u001b[1;33m,\u001b[0m \u001b[1;34m'r'\u001b[0m\u001b[1;33m)\u001b[0m\u001b[1;33m\u001b[0m\u001b[1;33m\u001b[0m\u001b[0m\n\u001b[0m\u001b[0;32m      6\u001b[0m \u001b[1;33m\u001b[0m\u001b[0m\n\u001b[0;32m      7\u001b[0m     \u001b[0mprint\u001b[0m\u001b[1;33m(\u001b[0m\u001b[1;34m\"\\nReading file:\"\u001b[0m\u001b[1;33m)\u001b[0m\u001b[1;33m\u001b[0m\u001b[1;33m\u001b[0m\u001b[0m\n",
      "\u001b[1;32mD:\\Anaconda\\lib\\site-packages\\h5py\\_hl\\files.py\u001b[0m in \u001b[0;36m__init__\u001b[1;34m(self, name, mode, driver, libver, userblock_size, swmr, rdcc_nslots, rdcc_nbytes, rdcc_w0, track_order, **kwds)\u001b[0m\n\u001b[0;32m    404\u001b[0m             \u001b[1;32mwith\u001b[0m \u001b[0mphil\u001b[0m\u001b[1;33m:\u001b[0m\u001b[1;33m\u001b[0m\u001b[1;33m\u001b[0m\u001b[0m\n\u001b[0;32m    405\u001b[0m                 \u001b[0mfapl\u001b[0m \u001b[1;33m=\u001b[0m \u001b[0mmake_fapl\u001b[0m\u001b[1;33m(\u001b[0m\u001b[0mdriver\u001b[0m\u001b[1;33m,\u001b[0m \u001b[0mlibver\u001b[0m\u001b[1;33m,\u001b[0m \u001b[0mrdcc_nslots\u001b[0m\u001b[1;33m,\u001b[0m \u001b[0mrdcc_nbytes\u001b[0m\u001b[1;33m,\u001b[0m \u001b[0mrdcc_w0\u001b[0m\u001b[1;33m,\u001b[0m \u001b[1;33m**\u001b[0m\u001b[0mkwds\u001b[0m\u001b[1;33m)\u001b[0m\u001b[1;33m\u001b[0m\u001b[1;33m\u001b[0m\u001b[0m\n\u001b[1;32m--> 406\u001b[1;33m                 fid = make_fid(name, mode, userblock_size,\n\u001b[0m\u001b[0;32m    407\u001b[0m                                \u001b[0mfapl\u001b[0m\u001b[1;33m,\u001b[0m \u001b[0mfcpl\u001b[0m\u001b[1;33m=\u001b[0m\u001b[0mmake_fcpl\u001b[0m\u001b[1;33m(\u001b[0m\u001b[0mtrack_order\u001b[0m\u001b[1;33m=\u001b[0m\u001b[0mtrack_order\u001b[0m\u001b[1;33m)\u001b[0m\u001b[1;33m,\u001b[0m\u001b[1;33m\u001b[0m\u001b[1;33m\u001b[0m\u001b[0m\n\u001b[0;32m    408\u001b[0m                                swmr=swmr)\n",
      "\u001b[1;32mD:\\Anaconda\\lib\\site-packages\\h5py\\_hl\\files.py\u001b[0m in \u001b[0;36mmake_fid\u001b[1;34m(name, mode, userblock_size, fapl, fcpl, swmr)\u001b[0m\n\u001b[0;32m    171\u001b[0m         \u001b[1;32mif\u001b[0m \u001b[0mswmr\u001b[0m \u001b[1;32mand\u001b[0m \u001b[0mswmr_support\u001b[0m\u001b[1;33m:\u001b[0m\u001b[1;33m\u001b[0m\u001b[1;33m\u001b[0m\u001b[0m\n\u001b[0;32m    172\u001b[0m             \u001b[0mflags\u001b[0m \u001b[1;33m|=\u001b[0m \u001b[0mh5f\u001b[0m\u001b[1;33m.\u001b[0m\u001b[0mACC_SWMR_READ\u001b[0m\u001b[1;33m\u001b[0m\u001b[1;33m\u001b[0m\u001b[0m\n\u001b[1;32m--> 173\u001b[1;33m         \u001b[0mfid\u001b[0m \u001b[1;33m=\u001b[0m \u001b[0mh5f\u001b[0m\u001b[1;33m.\u001b[0m\u001b[0mopen\u001b[0m\u001b[1;33m(\u001b[0m\u001b[0mname\u001b[0m\u001b[1;33m,\u001b[0m \u001b[0mflags\u001b[0m\u001b[1;33m,\u001b[0m \u001b[0mfapl\u001b[0m\u001b[1;33m=\u001b[0m\u001b[0mfapl\u001b[0m\u001b[1;33m)\u001b[0m\u001b[1;33m\u001b[0m\u001b[1;33m\u001b[0m\u001b[0m\n\u001b[0m\u001b[0;32m    174\u001b[0m     \u001b[1;32melif\u001b[0m \u001b[0mmode\u001b[0m \u001b[1;33m==\u001b[0m \u001b[1;34m'r+'\u001b[0m\u001b[1;33m:\u001b[0m\u001b[1;33m\u001b[0m\u001b[1;33m\u001b[0m\u001b[0m\n\u001b[0;32m    175\u001b[0m         \u001b[0mfid\u001b[0m \u001b[1;33m=\u001b[0m \u001b[0mh5f\u001b[0m\u001b[1;33m.\u001b[0m\u001b[0mopen\u001b[0m\u001b[1;33m(\u001b[0m\u001b[0mname\u001b[0m\u001b[1;33m,\u001b[0m \u001b[0mh5f\u001b[0m\u001b[1;33m.\u001b[0m\u001b[0mACC_RDWR\u001b[0m\u001b[1;33m,\u001b[0m \u001b[0mfapl\u001b[0m\u001b[1;33m=\u001b[0m\u001b[0mfapl\u001b[0m\u001b[1;33m)\u001b[0m\u001b[1;33m\u001b[0m\u001b[1;33m\u001b[0m\u001b[0m\n",
      "\u001b[1;32mh5py\\_objects.pyx\u001b[0m in \u001b[0;36mh5py._objects.with_phil.wrapper\u001b[1;34m()\u001b[0m\n",
      "\u001b[1;32mh5py\\_objects.pyx\u001b[0m in \u001b[0;36mh5py._objects.with_phil.wrapper\u001b[1;34m()\u001b[0m\n",
      "\u001b[1;32mh5py\\h5f.pyx\u001b[0m in \u001b[0;36mh5py.h5f.open\u001b[1;34m()\u001b[0m\n",
      "\u001b[1;31mOSError\u001b[0m: Unable to open file (unable to open file: name = 'C:\\Users\\wongb\\Documents\\URS Data\\m1.5_c1_16x16_128x128_Rodrigues_Streaming\\More Plot Files\\parkerCRs_hdf5_plt_cnt_0076', errno = 2, error message = 'No such file or directory', flags = 0, o_flags = 0)"
     ]
    }
   ],
   "source": [
    "import h5py\n",
    "\n",
    "#This method reads in a file, and creates a dictionary of relevant variables.\n",
    "def fileInputTest(fileName):\n",
    "    f2 = h5py.File(fileName, 'r')\n",
    "\n",
    "    print(\"\\nReading file:\")\n",
    "    print(f2) #general info\n",
    "    print(f2.attrs)\n",
    "    print(\"\\nKeys:\")\n",
    "    print(f2.keys())\n",
    "    print()\n",
    "\n",
    "    coords = f2['coordinates']\n",
    "    cray = f2['cray']\n",
    "    dens = f2['dens']\n",
    "    magx = f2['magx']\n",
    "    magy = f2['magy']\n",
    "    magz = f2['magz']\n",
    "    pres = f2['pres']\n",
    "    velx = f2['velx']\n",
    "    vely = f2['vely']\n",
    "    velz = f2['velz']\n",
    "    temp = f2['temp']\n",
    "\n",
    "    dict = {\n",
    "        \"coordinates\" : coords,\n",
    "        \"cray_pressure\" : cray,\n",
    "        \"density\" : dens,\n",
    "        \"magx\" : magx,\n",
    "        \"magy\" : magy,\n",
    "        \"magz\" : magz,\n",
    "        \"pressure\" : pres,\n",
    "        \"velx\" : velx,\n",
    "        \"vely\" : vely,\n",
    "        \"velz\" : velz,\n",
    "        \"temp\" : temp\n",
    "\n",
    "    }\n",
    "    return dict\n",
    "    #END OF METHOD\n",
    "\n",
    "#Full file path. Jupyter likes Windows notation, Spyder likes Mac/Linux\n",
    "filename = r\"C:\\Users\\wongb\\Documents\\URS Data\\m1.5_c1_16x16_128x128_Rodrigues_Streaming\\More Plot Files\\parkerCRs_hdf5_plt_cnt_0076\"\n",
    "#filename = \"/mnt/c/Users/wongb/Documents/URS Data/m1.5_c1_16x16_128x128_Rodrigues_Streaming/More Plot Files/parkerCRs_hdf5_plt_cnt_0000\"\n",
    "\n",
    "dict = fileInputTest(filename)\n",
    "\n",
    "#print(dict)\n",
    "#print(dict['density'])"
   ]
  },
  {
   "cell_type": "markdown",
   "metadata": {},
   "source": [
    "### 1.2 Plotting with matplotlib:\n",
    "#### Prelude:\n",
    "\n",
    "The coordinate system for the FLASH simulation is a Z-order curve. It doesn't matter too much for our purposes, but it looks cool:"
   ]
  },
  {
   "cell_type": "code",
   "execution_count": null,
   "metadata": {},
   "outputs": [],
   "source": [
    "#recreate the z-order curve:\n",
    "posX = [] #list\n",
    "posY = [] #list\n",
    "for coord in dict['coordinates']:\n",
    "    posX.append(coord[0])\n",
    "    posY.append(coord[1])\n",
    "plt.plot(posX, posY, linewidth = 1)\n",
    "plt.margins(x=-0.4, y=-0.39) #zoom\n",
    "#plt.savefig('CoordPlot1.png'); #bad quality\n",
    "#plt.savefig('CoordPlot1.svg'); #much better quality\n",
    "###print(\"\\nPlotting finished.\")"
   ]
  },
  {
   "cell_type": "markdown",
   "metadata": {},
   "source": [
    "#### Expanding coordinate grid\n",
    "\n",
    "<img src=\"Data_8x8.png\" width=\"300\" style=\"float: right; padding-left: 30px\">\n",
    "\n",
    "The way that the data is set up, each single coordinate represents a 8x8 box of additional data points. Thus, in order to view the full resolution, it is necessary to expand the each coordinate into an 8x8 grid, with the original coordinate in the bottom left corner. The other data will populate these 8x8 grids.\n"
   ]
  },
  {
   "cell_type": "markdown",
   "metadata": {},
   "source": [
    "Without this extra work, plots will be much less resolved:"
   ]
  },
  {
   "cell_type": "code",
   "execution_count": null,
   "metadata": {},
   "outputs": [],
   "source": [
    "#First convert the HDF5 data into lists\n",
    "posX = [] #list\n",
    "posY = [] #list\n",
    "for coord in dict['coordinates']:\n",
    "    posX.append(coord[0])\n",
    "    posY.append(coord[1])\n",
    "    \n",
    "density = [] #list\n",
    "for dens in dict['density']:\n",
    "     #a random point in the 8x8\n",
    "    density.append(dens[0][4][4])\n",
    "    \n",
    "fig = plt.figure(figsize=(6, 6))\n",
    "plt.scatter(posX, posY,\n",
    "           linewidths=0, alpha=.7,\n",
    "           edgecolor='k',\n",
    "           s = 5,\n",
    "           c=density)"
   ]
  },
  {
   "cell_type": "markdown",
   "metadata": {},
   "source": [
    "Lets do this properly. First, create a new coordinate system that includes the additional data points."
   ]
  },
  {
   "cell_type": "code",
   "execution_count": null,
   "metadata": {},
   "outputs": [],
   "source": [
    "\"\"\"Sets up coordinates for 16384 * 64 data points.\"\"\"\n",
    "posX = [] #list\n",
    "posY = [] #list\n",
    "#these steps may differ between simulations\n",
    "stepX = dict['coordinates'][1][0] - dict['coordinates'][0][0]\n",
    "stepY = dict['coordinates'][2][1] - dict['coordinates'][1][1]\n",
    "\n",
    "for coord in dict['coordinates']:\n",
    "    \n",
    "    #equally space x and y apart\n",
    "    tempXlin = np.linspace(coord[0], coord[0] + stepX, 8)\n",
    "    tempYlin = np.linspace(coord[1], coord[1] + stepY, 8)\n",
    "    \n",
    "    #create a grid of coordinates using these XY values\n",
    "    tempMeshgrid = np.meshgrid(tempXlin, tempYlin)\n",
    "    \n",
    "    #append the full X and Y coordinate pairs\n",
    "    posX.append(tempMeshgrid[0])\n",
    "    posY.append(tempMeshgrid[1])\n",
    "    \n",
    "posXarray, posYarray = (np.asarray(posX), np.asarray(posY))\n",
    "posXarray = posXarray.flatten()\n",
    "posYarray = posYarray.flatten()"
   ]
  },
  {
   "cell_type": "markdown",
   "metadata": {},
   "source": [
    "Now let's set up the actual data. These don't require extra work; they are already expanded."
   ]
  },
  {
   "cell_type": "code",
   "execution_count": null,
   "metadata": {
    "scrolled": true
   },
   "outputs": [],
   "source": [
    "\"\"\"Density Setup\"\"\"\n",
    "density = [] #list\n",
    "for dens in dict['density']:\n",
    "    density.append(dens) #shape=(1, 8, 8)\n",
    "densityArray = np.asarray(density)\n",
    "densityArray = densityArray.flatten()\n",
    "\n",
    "\"\"\"\"Temp Setup\"\"\"\n",
    "temp = [] #list\n",
    "for thing in dict['temp']:\n",
    "    temp.append(thing) #shape=(1, 8, 8)\n",
    "tempArray = np.asarray(temp)\n",
    "tempArray = tempArray.flatten()"
   ]
  },
  {
   "cell_type": "markdown",
   "metadata": {},
   "source": [
    "Now we are ready to plot our data."
   ]
  },
  {
   "cell_type": "code",
   "execution_count": null,
   "metadata": {},
   "outputs": [],
   "source": [
    "plt.tricontourf(posXarray, posYarray, densityArray, locator=ticker.LogLocator(), levels = 100) #good for irregular Z values\n",
    "plt.colorbar(extend='both', orientation='vertical')"
   ]
  },
  {
   "cell_type": "code",
   "execution_count": null,
   "metadata": {
    "scrolled": true
   },
   "outputs": [],
   "source": [
    "z=tempArray\n",
    "plt.title(\"Temp (\\N{DEGREE SIGN}K)\")\n",
    "# plt.title(\"Density (g/$cm^3$)\")\n",
    "\n",
    "lev = np.logspace(np.log10(z.min()), np.log10(z.max()), num=1000)\n",
    "plt.tricontourf(posXarray, posYarray, z, locator=ticker.LogLocator(), levels = lev) #good for irregular Z values\n",
    "plt.colorbar(extend='both', orientation='vertical')"
   ]
  },
  {
   "cell_type": "markdown",
   "metadata": {},
   "source": []
  },
  {
   "cell_type": "code",
   "execution_count": null,
   "metadata": {},
   "outputs": [],
   "source": []
  },
  {
   "cell_type": "markdown",
   "metadata": {},
   "source": []
  },
  {
   "cell_type": "code",
   "execution_count": null,
   "metadata": {},
   "outputs": [],
   "source": []
  }
 ],
 "metadata": {
  "kernelspec": {
   "display_name": "Python 3",
   "language": "python",
   "name": "python3"
  },
  "language_info": {
   "codemirror_mode": {
    "name": "ipython",
    "version": 3
   },
   "file_extension": ".py",
   "mimetype": "text/x-python",
   "name": "python",
   "nbconvert_exporter": "python",
   "pygments_lexer": "ipython3",
   "version": "3.8.3"
  }
 },
 "nbformat": 4,
 "nbformat_minor": 4
}
